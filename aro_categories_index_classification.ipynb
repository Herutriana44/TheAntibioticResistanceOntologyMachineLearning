{
 "cells": [
  {
   "cell_type": "code",
   "execution_count": null,
   "metadata": {},
   "outputs": [],
   "source": []
  },
  {
   "cell_type": "code",
   "execution_count": 1,
   "metadata": {},
   "outputs": [],
   "source": [
    "import pandas as pd\n",
    "import numpy as np\n",
    "from sklearn.model_selection import train_test_split\n",
    "from sklearn.preprocessing import LabelEncoder\n",
    "from tensorflow.keras.models import Sequential\n",
    "from tensorflow.keras.layers import Conv1D, MaxPooling1D, Flatten, Dense\n",
    "from scipy.sparse import csr_matrix\n",
    "from sklearn.metrics import classification_report\n",
    "\n",
    "from sklearn.utils import resample\n",
    "\n",
    "def count_value_frequency(df, column):\n",
    "    value_counts = df[column].value_counts()\n",
    "    return value_counts\n",
    "\n",
    "def balance_dataset(df, target_column):\n",
    "    # Menghitung frekuensi nilai pada kolom target\n",
    "    value_counts = count_value_frequency(df, target_column)\n",
    "\n",
    "    # Menentukan jumlah minimum frekuensi nilai\n",
    "    min_frequency = value_counts.min()\n",
    "\n",
    "    # Melakukan resampling untuk setiap nilai dalam kolom target\n",
    "    balanced_data = pd.DataFrame()\n",
    "    for value in value_counts.index:\n",
    "        # Mengambil subset data dengan nilai tertentu\n",
    "        subset = df[df[target_column] == value]\n",
    "\n",
    "        # Melakukan resampling dengan jumlah minimum frekuensi\n",
    "        subset_resampled = resample(subset, replace=True, n_samples=min_frequency, random_state=42)\n",
    "\n",
    "        # Menggabungkan subset resampled ke dalam dataset seimbang\n",
    "        balanced_data = pd.concat([balanced_data, subset_resampled])\n",
    "\n",
    "    return balanced_data\n",
    "import numpy as np\n",
    "\n",
    "def divide_dataset_by_float(df, float_value):\n",
    "    num_samples = int(len(df) * float_value)\n",
    "    return df.head(num_samples)\n",
    "\n",
    "def divide_balanced_dataset(balanced_df, target_column, float_value):\n",
    "    # Menghitung frekuensi nilai pada kolom target\n",
    "    value_counts = count_value_frequency(balanced_df, target_column)\n",
    "\n",
    "    # Menentukan jumlah dataset setelah dibagi sesuai float value\n",
    "    divided_data = pd.DataFrame()\n",
    "    for value in value_counts.index:\n",
    "        # Mengambil subset data dengan nilai tertentu\n",
    "        subset = balanced_df[balanced_df[target_column] == value]\n",
    "\n",
    "        # Menghitung jumlah dataset setelah dibagi sesuai float value\n",
    "        num_samples = int(len(subset) * float_value)\n",
    "        \n",
    "        # Memilih sebagian dari subset sesuai dengan float value\n",
    "        subset_divided = subset.head(num_samples)\n",
    "        \n",
    "        # Menggabungkan subset yang sudah dibagi ke dalam dataset hasil\n",
    "        divided_data = pd.concat([divided_data, subset_divided])\n",
    "\n",
    "    return divided_data\n"
   ]
  },
  {
   "cell_type": "code",
   "execution_count": 2,
   "metadata": {},
   "outputs": [],
   "source": [
    "# Membaca dataset dari file CSV\n",
    "df = pd.read_csv('aro_categories_index(res_manage)2.csv')\n",
    "\n",
    "# Mengacak dataset dan mereset indeks\n",
    "df = df.sample(frac=1).reset_index(drop=True)"
   ]
  },
  {
   "cell_type": "code",
   "execution_count": 3,
   "metadata": {},
   "outputs": [],
   "source": [
    "filtered_df = df[df['Protein(Asam Amino)'].apply(len) <= 500]\n",
    "filtered_df = filtered_df[filtered_df['Resistance Mechanism'] != 'antibiotic target alteration']\n",
    "filtered_df = filtered_df[filtered_df['Resistance Mechanism'] != 'antibiotic efflux']"
   ]
  },
  {
   "cell_type": "code",
   "execution_count": 4,
   "metadata": {},
   "outputs": [
    {
     "data": {
      "text/plain": [
       "237"
      ]
     },
     "execution_count": 4,
     "metadata": {},
     "output_type": "execute_result"
    }
   ],
   "source": [
    "len(filtered_df)"
   ]
  },
  {
   "cell_type": "code",
   "execution_count": 5,
   "metadata": {},
   "outputs": [
    {
     "data": {
      "text/plain": [
       "Resistance Mechanism\n",
       "antibiotic inactivation         141\n",
       "antibiotic target protection     96\n",
       "Name: count, dtype: int64"
      ]
     },
     "execution_count": 5,
     "metadata": {},
     "output_type": "execute_result"
    }
   ],
   "source": [
    "filtered_df['Resistance Mechanism'].value_counts()"
   ]
  },
  {
   "cell_type": "code",
   "execution_count": 6,
   "metadata": {},
   "outputs": [],
   "source": [
    "df = filtered_df"
   ]
  },
  {
   "cell_type": "code",
   "execution_count": 15,
   "metadata": {},
   "outputs": [],
   "source": [
    "def reverse_dict(input_dict):\n",
    "    reversed_dict = {value: key for key, value in input_dict.items()}\n",
    "    return reversed_dict\n",
    "\n",
    "codon_table = {\n",
    "        'ATA': 'I', 'ATC': 'I', 'ATT': 'I', 'ATG': 'M',\n",
    "        'ACA': 'T', 'ACC': 'T', 'ACG': 'T', 'ACT': 'T',\n",
    "        'AAC': 'N', 'AAT': 'N', 'AAA': 'K', 'AAG': 'K',\n",
    "        'AGC': 'S', 'AGT': 'S', 'AGA': 'R', 'AGG': 'R',\n",
    "        'CTA': 'L', 'CTC': 'L', 'CTG': 'L', 'CTT': 'L',\n",
    "        'CCA': 'P', 'CCC': 'P', 'CCG': 'P', 'CCT': 'P',\n",
    "        'CAC': 'H', 'CAT': 'H', 'CAA': 'Q', 'CAG': 'Q',\n",
    "        'CGA': 'R', 'CGC': 'R', 'CGG': 'R', 'CGT': 'R',\n",
    "        'GTA': 'V', 'GTC': 'V', 'GTG': 'V', 'GTT': 'V',\n",
    "        'GCA': 'A', 'GCC': 'A', 'GCG': 'A', 'GCT': 'A',\n",
    "        'GAC': 'D', 'GAT': 'D', 'GAA': 'E', 'GAG': 'E',\n",
    "        'GGA': 'G', 'GGC': 'G', 'GGG': 'G', 'GGT': 'G',\n",
    "        'TCA': 'S', 'TCC': 'S', 'TCG': 'S', 'TCT': 'S',\n",
    "        'TTC': 'F', 'TTT': 'F', 'TTA': 'L', 'TTG': 'L',\n",
    "        'TAC': 'Y', 'TAT': 'Y', 'TAA': '*', 'TAG': '*',\n",
    "        'TGC': 'C', 'TGT': 'C', 'TGA': '*', 'TGG': 'W',\n",
    "    }\n",
    "\n",
    "amino_acid = list(set(list(reverse_dict(codon_table).keys())))"
   ]
  },
  {
   "cell_type": "code",
   "execution_count": 195,
   "metadata": {},
   "outputs": [
    {
     "data": {
      "text/plain": [
       "21"
      ]
     },
     "execution_count": 195,
     "metadata": {},
     "output_type": "execute_result"
    }
   ],
   "source": [
    "len(amino_acid)"
   ]
  },
  {
   "cell_type": "code",
   "execution_count": 196,
   "metadata": {},
   "outputs": [],
   "source": [
    "def translate_dna_to_protein(dna_sequence):\n",
    "    # Tabel kodon DNA untuk translasi\n",
    "    codon_table = {\n",
    "        'ATA': 'I', 'ATC': 'I', 'ATT': 'I', 'ATG': 'M',\n",
    "        'ACA': 'T', 'ACC': 'T', 'ACG': 'T', 'ACT': 'T',\n",
    "        'AAC': 'N', 'AAT': 'N', 'AAA': 'K', 'AAG': 'K',\n",
    "        'AGC': 'S', 'AGT': 'S', 'AGA': 'R', 'AGG': 'R',\n",
    "        'CTA': 'L', 'CTC': 'L', 'CTG': 'L', 'CTT': 'L',\n",
    "        'CCA': 'P', 'CCC': 'P', 'CCG': 'P', 'CCT': 'P',\n",
    "        'CAC': 'H', 'CAT': 'H', 'CAA': 'Q', 'CAG': 'Q',\n",
    "        'CGA': 'R', 'CGC': 'R', 'CGG': 'R', 'CGT': 'R',\n",
    "        'GTA': 'V', 'GTC': 'V', 'GTG': 'V', 'GTT': 'V',\n",
    "        'GCA': 'A', 'GCC': 'A', 'GCG': 'A', 'GCT': 'A',\n",
    "        'GAC': 'D', 'GAT': 'D', 'GAA': 'E', 'GAG': 'E',\n",
    "        'GGA': 'G', 'GGC': 'G', 'GGG': 'G', 'GGT': 'G',\n",
    "        'TCA': 'S', 'TCC': 'S', 'TCG': 'S', 'TCT': 'S',\n",
    "        'TTC': 'F', 'TTT': 'F', 'TTA': 'L', 'TTG': 'L',\n",
    "        'TAC': 'Y', 'TAT': 'Y', 'TAA': '*', 'TAG': '*',\n",
    "        'TGC': 'C', 'TGT': 'C', 'TGA': '*', 'TGG': 'W',\n",
    "    }\n",
    "\n",
    "    protein_sequence = []\n",
    "    for i in range(0, len(dna_sequence), 3):\n",
    "        codon = dna_sequence[i:i+3]\n",
    "        if len(codon) == 3:\n",
    "            protein_sequence.append(codon_table.get(codon, 'X'))\n",
    "\n",
    "    return ''.join(protein_sequence)"
   ]
  },
  {
   "cell_type": "code",
   "execution_count": 197,
   "metadata": {},
   "outputs": [],
   "source": [
    "# df['Protein(Asam Amino)'] = [translate_dna_to_protein(str(df['Nucleotide(DNA)'][i])) for i in range(len(df))]"
   ]
  },
  {
   "cell_type": "code",
   "execution_count": 198,
   "metadata": {},
   "outputs": [],
   "source": [
    "# df.to_csv('aro_categories_index(res_manage)2.csv',index=False)"
   ]
  },
  {
   "cell_type": "code",
   "execution_count": 24,
   "metadata": {},
   "outputs": [
    {
     "data": {
      "text/plain": [
       "'SNSIL*VL*ILKHSYL*QALFLFQPAHLI**LLIQITALQNLMKKQRKLKIYLTKHTLRVS*LSSKGKLNKAMVMILLVLRPSMYLLRPSKCLML*SALSTIGQPPQKYLSGTGKKGYSQNGKRT*P*ATL*KLPLFRFIKI*LVVLDLNSCLMK*SVLVMAMQISVPKSIIFGWWVL*KLLLSKRHSLLTS*LIKRFHLAKKSKMKCNPCYS*KKRMEIKYTQKVVGDGM*THK*AG*LDGLFSLKEIL*RSPLT*K*KKEYLALFEKRLLIKV*NN*VFYRVSL*PSSLFTILIW'"
      ]
     },
     "execution_count": 24,
     "metadata": {},
     "output_type": "execute_result"
    }
   ],
   "source": [
    "df['Protein(Asam Amino)'][0]"
   ]
  },
  {
   "cell_type": "code",
   "execution_count": 200,
   "metadata": {},
   "outputs": [
    {
     "data": {
      "text/plain": [
       "Index(['Protein Accession', 'DNA Accession', 'AMR Gene Family', 'Drug Class',\n",
       "       'Resistance Mechanism', 'Nucleotide(DNA)', 'Protein(Asam Amino)'],\n",
       "      dtype='object')"
      ]
     },
     "execution_count": 200,
     "metadata": {},
     "output_type": "execute_result"
    }
   ],
   "source": [
    "df.columns"
   ]
  },
  {
   "cell_type": "code",
   "execution_count": 201,
   "metadata": {},
   "outputs": [
    {
     "data": {
      "text/plain": [
       "164"
      ]
     },
     "execution_count": 201,
     "metadata": {},
     "output_type": "execute_result"
    }
   ],
   "source": [
    "len(df)"
   ]
  },
  {
   "cell_type": "code",
   "execution_count": 202,
   "metadata": {},
   "outputs": [
    {
     "data": {
      "text/plain": [
       "Resistance Mechanism\n",
       "antibiotic target protection    92\n",
       "antibiotic inactivation         72\n",
       "Name: count, dtype: int64"
      ]
     },
     "execution_count": 202,
     "metadata": {},
     "output_type": "execute_result"
    }
   ],
   "source": [
    "df['Resistance Mechanism'].value_counts()"
   ]
  },
  {
   "cell_type": "code",
   "execution_count": 203,
   "metadata": {},
   "outputs": [
    {
     "data": {
      "text/plain": [
       "6.96"
      ]
     },
     "execution_count": 203,
     "metadata": {},
     "output_type": "execute_result"
    }
   ],
   "source": [
    "174*0.04"
   ]
  },
  {
   "cell_type": "code",
   "execution_count": 7,
   "metadata": {},
   "outputs": [],
   "source": [
    "df = balance_dataset(df, 'Resistance Mechanism')\n",
    "float_value = 1.0  # Misalnya, kita ingin membagi setiap kelompok menjadi setengahnya\n",
    "\n",
    "# Membagi dataset seimbang sesuai float value\n",
    "df = divide_balanced_dataset(df, 'Resistance Mechanism', float_value)\n",
    "df = df.reset_index()"
   ]
  },
  {
   "cell_type": "code",
   "execution_count": 8,
   "metadata": {},
   "outputs": [
    {
     "data": {
      "text/plain": [
       "Resistance Mechanism\n",
       "antibiotic inactivation         96\n",
       "antibiotic target protection    96\n",
       "Name: count, dtype: int64"
      ]
     },
     "execution_count": 8,
     "metadata": {},
     "output_type": "execute_result"
    }
   ],
   "source": [
    "df['Resistance Mechanism'].value_counts()"
   ]
  },
  {
   "cell_type": "code",
   "execution_count": 9,
   "metadata": {},
   "outputs": [
    {
     "data": {
      "text/plain": [
       "Index(['index', 'Protein Accession', 'DNA Accession', 'AMR Gene Family',\n",
       "       'Drug Class', 'Resistance Mechanism', 'Nucleotide(DNA)',\n",
       "       'Protein(Asam Amino)'],\n",
       "      dtype='object')"
      ]
     },
     "execution_count": 9,
     "metadata": {},
     "output_type": "execute_result"
    }
   ],
   "source": [
    "df.columns"
   ]
  },
  {
   "cell_type": "code",
   "execution_count": 10,
   "metadata": {},
   "outputs": [
    {
     "data": {
      "text/html": [
       "<div>\n",
       "<style scoped>\n",
       "    .dataframe tbody tr th:only-of-type {\n",
       "        vertical-align: middle;\n",
       "    }\n",
       "\n",
       "    .dataframe tbody tr th {\n",
       "        vertical-align: top;\n",
       "    }\n",
       "\n",
       "    .dataframe thead th {\n",
       "        text-align: right;\n",
       "    }\n",
       "</style>\n",
       "<table border=\"1\" class=\"dataframe\">\n",
       "  <thead>\n",
       "    <tr style=\"text-align: right;\">\n",
       "      <th></th>\n",
       "      <th>index</th>\n",
       "      <th>Protein Accession</th>\n",
       "      <th>DNA Accession</th>\n",
       "      <th>AMR Gene Family</th>\n",
       "      <th>Drug Class</th>\n",
       "      <th>Resistance Mechanism</th>\n",
       "      <th>Nucleotide(DNA)</th>\n",
       "      <th>Protein(Asam Amino)</th>\n",
       "    </tr>\n",
       "  </thead>\n",
       "  <tbody>\n",
       "    <tr>\n",
       "      <th>0</th>\n",
       "      <td>510</td>\n",
       "      <td>WP_128268272.1</td>\n",
       "      <td>NG_063877.1</td>\n",
       "      <td>OXA beta-lactamase</td>\n",
       "      <td>carbapenem;cephalosporin;penam</td>\n",
       "      <td>antibiotic inactivation</td>\n",
       "      <td>TCAAATTCAATCTTATAAGTCTTATGAATATTAAAGCACTCTTACT...</td>\n",
       "      <td>SNSIL*VL*ILKHSYL*QALFLFQPAHLI**LLIQITALQNLMKKQ...</td>\n",
       "    </tr>\n",
       "    <tr>\n",
       "      <th>1</th>\n",
       "      <td>455</td>\n",
       "      <td>AAP82228.1</td>\n",
       "      <td>AY259119.1</td>\n",
       "      <td>SHV beta-lactamase</td>\n",
       "      <td>carbapenem;cephalosporin;penam</td>\n",
       "      <td>antibiotic inactivation</td>\n",
       "      <td>ATGAAAAATGATGAAGGAAAAAAGAGGAATTGTGAATCAGCAAAAC...</td>\n",
       "      <td>MKNDEGKKRNCESAKRRVILICRFFTRLYRPSLKDVLWLCVIFACV...</td>\n",
       "    </tr>\n",
       "    <tr>\n",
       "      <th>2</th>\n",
       "      <td>89</td>\n",
       "      <td>AAB21326.1</td>\n",
       "      <td>S81599.1</td>\n",
       "      <td>APH(3')</td>\n",
       "      <td>aminoglycoside antibiotic</td>\n",
       "      <td>antibiotic inactivation</td>\n",
       "      <td>GCCGGACCGGTAGCGGGTCCGCTCGTGGTCGGCGACGCGGAGTTCG...</td>\n",
       "      <td>AGPVAGPLVVGDAEFAPRPTPPRPTSPRTRRPP*APARRASSGRPP...</td>\n",
       "    </tr>\n",
       "    <tr>\n",
       "      <th>3</th>\n",
       "      <td>522</td>\n",
       "      <td>AJP67510.1</td>\n",
       "      <td>KP096411.1</td>\n",
       "      <td>GES beta-lactamase</td>\n",
       "      <td>carbapenem;cephalosporin;penam</td>\n",
       "      <td>antibiotic inactivation</td>\n",
       "      <td>ATGCGCTTCATTCACGCACTATTACTGGCAGCGATCGCTCACTCTG...</td>\n",
       "      <td>MRFIHALLLAAIAHSAYASEKLTFKTDLEKLEREKAAQIGVAIVDP...</td>\n",
       "    </tr>\n",
       "    <tr>\n",
       "      <th>4</th>\n",
       "      <td>361</td>\n",
       "      <td>WP_085562403.1</td>\n",
       "      <td>NG_054693.1</td>\n",
       "      <td>OXA beta-lactamase</td>\n",
       "      <td>carbapenem;cephalosporin;penam</td>\n",
       "      <td>antibiotic inactivation</td>\n",
       "      <td>ATTAAGCAAGGGGACGTTATGCGTGTATTAGCCTTATCGGCTGTGT...</td>\n",
       "      <td>IKQGDVMRVLALSAVFLVASIIGMPAVAREWQENKSWNVHFTEHKS...</td>\n",
       "    </tr>\n",
       "  </tbody>\n",
       "</table>\n",
       "</div>"
      ],
      "text/plain": [
       "   index Protein Accession DNA Accession     AMR Gene Family  \\\n",
       "0    510    WP_128268272.1   NG_063877.1  OXA beta-lactamase   \n",
       "1    455        AAP82228.1    AY259119.1  SHV beta-lactamase   \n",
       "2     89        AAB21326.1      S81599.1             APH(3')   \n",
       "3    522        AJP67510.1    KP096411.1  GES beta-lactamase   \n",
       "4    361    WP_085562403.1   NG_054693.1  OXA beta-lactamase   \n",
       "\n",
       "                       Drug Class     Resistance Mechanism  \\\n",
       "0  carbapenem;cephalosporin;penam  antibiotic inactivation   \n",
       "1  carbapenem;cephalosporin;penam  antibiotic inactivation   \n",
       "2       aminoglycoside antibiotic  antibiotic inactivation   \n",
       "3  carbapenem;cephalosporin;penam  antibiotic inactivation   \n",
       "4  carbapenem;cephalosporin;penam  antibiotic inactivation   \n",
       "\n",
       "                                     Nucleotide(DNA)  \\\n",
       "0  TCAAATTCAATCTTATAAGTCTTATGAATATTAAAGCACTCTTACT...   \n",
       "1  ATGAAAAATGATGAAGGAAAAAAGAGGAATTGTGAATCAGCAAAAC...   \n",
       "2  GCCGGACCGGTAGCGGGTCCGCTCGTGGTCGGCGACGCGGAGTTCG...   \n",
       "3  ATGCGCTTCATTCACGCACTATTACTGGCAGCGATCGCTCACTCTG...   \n",
       "4  ATTAAGCAAGGGGACGTTATGCGTGTATTAGCCTTATCGGCTGTGT...   \n",
       "\n",
       "                                 Protein(Asam Amino)  \n",
       "0  SNSIL*VL*ILKHSYL*QALFLFQPAHLI**LLIQITALQNLMKKQ...  \n",
       "1  MKNDEGKKRNCESAKRRVILICRFFTRLYRPSLKDVLWLCVIFACV...  \n",
       "2  AGPVAGPLVVGDAEFAPRPTPPRPTSPRTRRPP*APARRASSGRPP...  \n",
       "3  MRFIHALLLAAIAHSAYASEKLTFKTDLEKLEREKAAQIGVAIVDP...  \n",
       "4  IKQGDVMRVLALSAVFLVASIIGMPAVAREWQENKSWNVHFTEHKS...  "
      ]
     },
     "execution_count": 10,
     "metadata": {},
     "output_type": "execute_result"
    }
   ],
   "source": [
    "df.head()"
   ]
  },
  {
   "cell_type": "code",
   "execution_count": 11,
   "metadata": {},
   "outputs": [
    {
     "data": {
      "text/plain": [
       "array(['antibiotic inactivation', 'antibiotic target protection'],\n",
       "      dtype=object)"
      ]
     },
     "execution_count": 11,
     "metadata": {},
     "output_type": "execute_result"
    }
   ],
   "source": [
    "df['Resistance Mechanism'].unique()"
   ]
  },
  {
   "cell_type": "code",
   "execution_count": 12,
   "metadata": {},
   "outputs": [],
   "source": [
    "# Memisahkan fitur dan label\n",
    "# sequences = df['Nucleotide(DNA)']\n",
    "sequences = df['Protein(Asam Amino)']\n",
    "labels = df['Resistance Mechanism']"
   ]
  },
  {
   "cell_type": "code",
   "execution_count": 210,
   "metadata": {},
   "outputs": [],
   "source": [
    "all_len_seq = [len(df['Protein(Asam Amino)'][i]) for i in range(len(df))]"
   ]
  },
  {
   "cell_type": "code",
   "execution_count": 13,
   "metadata": {},
   "outputs": [],
   "source": [
    "# Mengubah label menjadi bilangan bulat\n",
    "label_encoder = LabelEncoder()\n",
    "y_encoded = label_encoder.fit_transform(labels)\n",
    "\n",
    "# Membagi data menjadi data latih dan data uji\n",
    "X_train, X_test, y_train, y_test = train_test_split(sequences, y_encoded, test_size=0.2, random_state=42)"
   ]
  },
  {
   "cell_type": "code",
   "execution_count": 16,
   "metadata": {},
   "outputs": [],
   "source": [
    "import numpy as np\n",
    "from scipy.sparse import csr_matrix\n",
    "from scipy.sparse import lil_matrix\n",
    "\n",
    "# Mengubah sequence menjadi array angka dengan one-hot encoding\n",
    "# alphabet = ['A', 'T', 'G', 'C']\n",
    "alphabet = amino_acid\n",
    "sequence_length = max(len(seq) for seq in sequences)\n",
    "num_classes = len(label_encoder.classes_)\n",
    "\n",
    "# def one_hot_encode(sequence):\n",
    "#     encoded_sequence = lil_matrix((len(sequence), sequence_length * len(alphabet)), dtype=np.uint8)\n",
    "#     for i, seq in enumerate(sequence):\n",
    "#         for j, base in enumerate(seq):\n",
    "#             if base in alphabet:\n",
    "#                 encoded_sequence[i, j * len(alphabet) + alphabet.index(base)] = 1\n",
    "#     return encoded_sequence\n",
    "\n",
    "# # Mengubah format sparse matrix\n",
    "# def to_csc_format(encoded_sequence):\n",
    "#     # Menggunakan tocsr() untuk mengonversi ke Compressed Sparse Column format\n",
    "#     encoded_sequence_csc = encoded_sequence.tocsr()\n",
    "#     # Mengurutkan indeks agar urut sesuai urutan baris\n",
    "#     encoded_sequence_csc.sort_indices()\n",
    "#     return encoded_sequence_csc\n",
    "\n",
    "def one_hot_encode(sequence):\n",
    "    encoded_sequence = np.zeros((len(sequence), sequence_length, len(alphabet)), dtype=np.uint8)\n",
    "    for i, seq in enumerate(sequence):\n",
    "        for j, base in enumerate(seq):\n",
    "            if base in alphabet:\n",
    "                encoded_sequence[i, j, alphabet.index(base)] = 1\n",
    "    return encoded_sequence\n"
   ]
  },
  {
   "cell_type": "code",
   "execution_count": 17,
   "metadata": {},
   "outputs": [],
   "source": [
    "# X_train_encoded = one_hot_encode(X_train)\n",
    "# X_train_encoded_csc = to_csc_format(X_train_encoded)\n",
    "\n",
    "# X_test_encoded = one_hot_encode(X_test)\n",
    "# X_test_encoded_csc = to_csc_format(X_test_encoded)\n",
    "\n",
    "X_train_encoded = one_hot_encode(X_train)\n",
    "X_test_encoded = one_hot_encode(X_test)\n"
   ]
  },
  {
   "cell_type": "code",
   "execution_count": 215,
   "metadata": {},
   "outputs": [],
   "source": [
    "# import json\n",
    "\n",
    "# X_train_dense = X_train_encoded.toarray().tolist()\n",
    "# X_test_dense = X_test_encoded.toarray().tolist()\n",
    "\n",
    "# # Create a dictionary to store the data and labels\n",
    "# data_json = {\n",
    "#     \"X_train\": X_train_dense,\n",
    "#     \"X_test\": X_test_dense,\n",
    "#     \"y_train\" : y_train,\n",
    "#     \"y_test\" : y_test\n",
    "# }\n",
    "\n",
    "# # Convert the dictionary to JSON\n",
    "# json_data = json.dumps(data_json, indent=4)\n",
    "\n",
    "# # Save the JSON to a file\n",
    "# with open('encoded_data.json', 'w') as json_file:\n",
    "#     json_file.write(json_data)"
   ]
  },
  {
   "cell_type": "code",
   "execution_count": 216,
   "metadata": {},
   "outputs": [
    {
     "name": "stdout",
     "output_type": "stream",
     "text": [
      "(300, 21)\n"
     ]
    }
   ],
   "source": [
    "print((sequence_length, len(alphabet)))"
   ]
  },
  {
   "cell_type": "code",
   "execution_count": 217,
   "metadata": {},
   "outputs": [
    {
     "data": {
      "text/plain": [
       "300"
      ]
     },
     "execution_count": 217,
     "metadata": {},
     "output_type": "execute_result"
    }
   ],
   "source": [
    "sequence_length"
   ]
  },
  {
   "cell_type": "code",
   "execution_count": 218,
   "metadata": {},
   "outputs": [
    {
     "data": {
      "text/plain": [
       "2"
      ]
     },
     "execution_count": 218,
     "metadata": {},
     "output_type": "execute_result"
    }
   ],
   "source": [
    "num_classes"
   ]
  },
  {
   "cell_type": "code",
   "execution_count": 219,
   "metadata": {},
   "outputs": [
    {
     "data": {
      "text/plain": [
       "21"
      ]
     },
     "execution_count": 219,
     "metadata": {},
     "output_type": "execute_result"
    }
   ],
   "source": [
    "len(alphabet)"
   ]
  },
  {
   "cell_type": "code",
   "execution_count": 18,
   "metadata": {},
   "outputs": [],
   "source": [
    "# Membuat model CNN\n",
    "model = Sequential()\n",
    "model.add(Conv1D(filters=len(alphabet), kernel_size=3, activation='relu', input_shape=(sequence_length, len(alphabet))))  # Reduced filters and sequence length\n",
    "model.add(MaxPooling1D(pool_size=2))\n",
    "model.add(Conv1D(filters=len(alphabet), kernel_size=3, activation='relu'))  # Reduced filters and sequence length\n",
    "model.add(MaxPooling1D(pool_size=2))\n",
    "model.add(Conv1D(filters=len(alphabet), kernel_size=3, activation='relu'))  # Reduced filters and sequence length\n",
    "model.add(MaxPooling1D(pool_size=2))\n",
    "model.add(Conv1D(filters=len(alphabet), kernel_size=3, activation='relu'))  # Reduced filters and sequence length\n",
    "model.add(MaxPooling1D(pool_size=2))\n",
    "model.add(Flatten())\n",
    "model.add(Dense(len(alphabet), activation='relu'))\n",
    "model.add(Dense(num_classes, activation='softmax'))"
   ]
  },
  {
   "cell_type": "code",
   "execution_count": 19,
   "metadata": {},
   "outputs": [
    {
     "name": "stdout",
     "output_type": "stream",
     "text": [
      "Model: \"sequential\"\n",
      "_________________________________________________________________\n",
      " Layer (type)                Output Shape              Param #   \n",
      "=================================================================\n",
      " conv1d (Conv1D)             (None, 496, 21)           1344      \n",
      "                                                                 \n",
      " max_pooling1d (MaxPooling1D  (None, 248, 21)          0         \n",
      " )                                                               \n",
      "                                                                 \n",
      " conv1d_1 (Conv1D)           (None, 246, 21)           1344      \n",
      "                                                                 \n",
      " max_pooling1d_1 (MaxPooling  (None, 123, 21)          0         \n",
      " 1D)                                                             \n",
      "                                                                 \n",
      " conv1d_2 (Conv1D)           (None, 121, 21)           1344      \n",
      "                                                                 \n",
      " max_pooling1d_2 (MaxPooling  (None, 60, 21)           0         \n",
      " 1D)                                                             \n",
      "                                                                 \n",
      " conv1d_3 (Conv1D)           (None, 58, 21)            1344      \n",
      "                                                                 \n",
      " max_pooling1d_3 (MaxPooling  (None, 29, 21)           0         \n",
      " 1D)                                                             \n",
      "                                                                 \n",
      " flatten (Flatten)           (None, 609)               0         \n",
      "                                                                 \n",
      " dense (Dense)               (None, 21)                12810     \n",
      "                                                                 \n",
      " dense_1 (Dense)             (None, 2)                 44        \n",
      "                                                                 \n",
      "=================================================================\n",
      "Total params: 18,230\n",
      "Trainable params: 18,230\n",
      "Non-trainable params: 0\n",
      "_________________________________________________________________\n"
     ]
    }
   ],
   "source": [
    "model.summary()"
   ]
  },
  {
   "cell_type": "code",
   "execution_count": 20,
   "metadata": {},
   "outputs": [],
   "source": [
    "# Compile model\n",
    "model.compile(loss='sparse_categorical_crossentropy', optimizer='adam', metrics=['accuracy'])"
   ]
  },
  {
   "cell_type": "code",
   "execution_count": 21,
   "metadata": {},
   "outputs": [
    {
     "name": "stdout",
     "output_type": "stream",
     "text": [
      "Epoch 1/10\n",
      "77/77 [==============================] - 11s 35ms/step - loss: 0.2448 - accuracy: 0.9542 - val_loss: 0.3114 - val_accuracy: 0.9744\n",
      "Epoch 2/10\n",
      "77/77 [==============================] - 1s 18ms/step - loss: 0.1142 - accuracy: 0.9869 - val_loss: 0.2152 - val_accuracy: 0.9744\n",
      "Epoch 3/10\n",
      "77/77 [==============================] - 1s 14ms/step - loss: 0.0306 - accuracy: 0.9869 - val_loss: 0.0856 - val_accuracy: 0.9744\n",
      "Epoch 4/10\n",
      "77/77 [==============================] - 1s 13ms/step - loss: 0.0023 - accuracy: 1.0000 - val_loss: 0.1295 - val_accuracy: 0.9744\n",
      "Epoch 5/10\n",
      "77/77 [==============================] - 1s 15ms/step - loss: 9.4380e-04 - accuracy: 1.0000 - val_loss: 0.1172 - val_accuracy: 0.9744\n",
      "Epoch 6/10\n",
      "77/77 [==============================] - 1s 14ms/step - loss: 5.6645e-04 - accuracy: 1.0000 - val_loss: 0.1254 - val_accuracy: 0.9744\n",
      "Epoch 7/10\n",
      "77/77 [==============================] - 1s 14ms/step - loss: 4.2063e-04 - accuracy: 1.0000 - val_loss: 0.1326 - val_accuracy: 0.9744\n",
      "Epoch 8/10\n",
      "77/77 [==============================] - 1s 18ms/step - loss: 3.3247e-04 - accuracy: 1.0000 - val_loss: 0.1333 - val_accuracy: 0.9744\n",
      "Epoch 9/10\n",
      "77/77 [==============================] - 1s 15ms/step - loss: 2.6277e-04 - accuracy: 1.0000 - val_loss: 0.1403 - val_accuracy: 0.9744\n",
      "Epoch 10/10\n",
      "77/77 [==============================] - 1s 12ms/step - loss: 2.1596e-04 - accuracy: 1.0000 - val_loss: 0.1456 - val_accuracy: 0.9744\n"
     ]
    },
    {
     "data": {
      "text/plain": [
       "<keras.callbacks.History at 0x1d380657c50>"
      ]
     },
     "execution_count": 21,
     "metadata": {},
     "output_type": "execute_result"
    }
   ],
   "source": [
    "# Melatih model dengan data latih\n",
    "model.fit(X_train_encoded, y_train, epochs=10, batch_size=2, validation_data=(X_test_encoded, y_test))"
   ]
  },
  {
   "cell_type": "code",
   "execution_count": 22,
   "metadata": {},
   "outputs": [],
   "source": [
    "# Membuat fungsi predict dengan kembalian seluruh label dan probabilitas\n",
    "def predict_labels(sequence):\n",
    "    sequence_encoded = np.zeros((1, sequence_length, len(alphabet)))\n",
    "    for i, base in enumerate(sequence):\n",
    "        sequence_encoded[0, i, alphabet.index(base)] = 1\n",
    "    predictions = model.predict(sequence_encoded)\n",
    "    labels = label_encoder.classes_\n",
    "    probabilities = predictions[0]\n",
    "    return labels, probabilities"
   ]
  },
  {
   "cell_type": "code",
   "execution_count": 25,
   "metadata": {},
   "outputs": [
    {
     "name": "stdout",
     "output_type": "stream",
     "text": [
      "1/1 [==============================] - 0s 62ms/step\n",
      "antibiotic inactivation: 0.999998927116394\n",
      "antibiotic target protection: 1.1004058251273818e-06\n"
     ]
    }
   ],
   "source": [
    "# Contoh penggunaan fungsi predict\n",
    "sequence = \"SNSIL*VL*ILKHSYL*QALFLFQPAHLI**LLIQITALQNLMKKQRKLKIYLTKHTLRVS*LSSKGKLNKAMVMILLVLRPSMYLLRPSKCLML*SALSTIGQPPQKYLSGTGKKGYSQNGKRT*P*ATL*KLPLFRFIKI*LVVLDLNSCLMK*SVLVMAMQISVPKSIIFGWWVL*KLLLSKRHSLLTS*LIKRFHLAKKSKMKCNPCYS*KKRMEIKYTQKVVGDGM*THK*AG*LDGLFSLKEIL*RSPLT*K*KKEYLALFEKRLLIKV*NN*VFYRVSL*PSSLFTILIW\"\n",
    "labels, probabilities = predict_labels(sequence)\n",
    "for label, probability in zip(labels, probabilities):\n",
    "    print(f\"{label}: {probability}\")"
   ]
  },
  {
   "cell_type": "code",
   "execution_count": 26,
   "metadata": {},
   "outputs": [],
   "source": [
    "# Simpan model ke file .h5\n",
    "model.save(\"aro_model.h5\")"
   ]
  }
 ],
 "metadata": {
  "kernelspec": {
   "display_name": "Python 3",
   "language": "python",
   "name": "python3"
  },
  "language_info": {
   "codemirror_mode": {
    "name": "ipython",
    "version": 3
   },
   "file_extension": ".py",
   "mimetype": "text/x-python",
   "name": "python",
   "nbconvert_exporter": "python",
   "pygments_lexer": "ipython3",
   "version": "3.11.4"
  },
  "orig_nbformat": 4
 },
 "nbformat": 4,
 "nbformat_minor": 2
}
